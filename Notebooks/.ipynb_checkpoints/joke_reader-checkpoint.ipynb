{
 "cells": [
  {
   "cell_type": "markdown",
   "metadata": {},
   "source": [
    "2017-06-19\n",
    "Read sentence\n",
    "Word2Vec\n",
    "With the sentence, calculate it's \"Probability\"\n"
   ]
  },
  {
   "cell_type": "markdown",
   "metadata": {},
   "source": []
  },
  {
   "cell_type": "code",
   "execution_count": 8,
   "metadata": {
    "collapsed": true
   },
   "outputs": [],
   "source": [
    "joke_text = []"
   ]
  },
  {
   "cell_type": "code",
   "execution_count": 9,
   "metadata": {
    "collapsed": true
   },
   "outputs": [],
   "source": [
    "#from http://onelinefun.com/puns/\n",
    "joke_text.append(\"I wasn't originally going to get a brain transplant, but then I changed my mind.\")\n",
    "joke_text.append(\"I was going to get a brain transplant and then I changed my mind.\")\n",
    "joke_text.append(\"I'd tell you a chemistry joke but I know I wouldn't get a reaction.\")\n",
    "joke_text.append(\"I'm glad I know sign language, it's pretty handy.\")\n",
    "joke_text.append(\"I have a few jokes about unemployed people but it doesn't matter none of them work.\")\n",
    "joke_text.append(\"I used to be a banker, but then I lost interest.\")\n",
    "joke_text.append(\"I hate insects puns, they really bug me.\")\n",
    "joke_text.append(\"Insects puns bug me.\")\n",
    "joke_text.append(\"It's hard to explain puns to kleptomaniacs because they always take things literally.\")\n",
    "joke_text.append(\"I was so sad and crying when I lost my playstation 3 but unfortunately, there was nobody to console me!\")\n",
    "joke_text.append(\"I'm on a whiskey diet. I've lost three days already.\")"
   ]
  },
  {
   "cell_type": "code",
   "execution_count": 10,
   "metadata": {
    "collapsed": true
   },
   "outputs": [],
   "source": [
    "#from http://www.jokesclean.com/Puns/\n",
    "joke_text.append(\"She broke into song when she couldn't find the key.\")\n",
    "joke_text.append(\"She had a boyfriend with a wooden leg, but broke it off.\")\n",
    "joke_text.append(\"Corduroy pillows are making headlines.\")"
   ]
  },
  {
   "cell_type": "code",
   "execution_count": 11,
   "metadata": {
    "collapsed": true
   },
   "outputs": [],
   "source": [
    "#from http://thoughtcatalog.com/christopher-hudspeth/2013/09/50-terrible-quick-jokes-thatll-get-you-a-laugh-on-demand/2/\n",
    "joke_text.append(\"If you want to catch a squirrel just climb a tree and act like a nut.\")\n",
    "joke_text.append(\"A magician was walking down the street and turned into a grocery store.\")\n",
    "joke_text.append(\"Time flies like an arrow, fruit flies like banana.\")\n",
    "joke_text.append(\"Dwarfs and midgets have very little in common.\") # appropriate?"
   ]
  },
  {
   "cell_type": "code",
   "execution_count": 12,
   "metadata": {
    "collapsed": true
   },
   "outputs": [],
   "source": [
    "#from Reddit (https://www.reddit.com/r/AskReddit/comments/1sy48v/whats_your_favourite_oneliner_pun/)\n",
    "joke_text.append(\"My grandfather has the heart of a lion, and a lifetime ban at the zoo.\")\n",
    "joke_text.append(\"A broken pencil is pointless.\")\n",
    "joke_text.append(\"My skiing skills are really going downhill.\")\n",
    "joke_text.append(\"Obesity should not be taken lightly.\")"
   ]
  },
  {
   "cell_type": "code",
   "execution_count": 13,
   "metadata": {
    "collapsed": false
   },
   "outputs": [
    {
     "data": {
      "text/plain": [
       "[\"I wasn't originally going to get a brain transplant, but then I changed my mind.\",\n",
       " \"I'd tell you a chemistry joke but I know I wouldn't get a reaction.\",\n",
       " \"I'm glad I know sign language, it's pretty handy.\",\n",
       " \"I have a few jokes about unemployed people but it doesn't matter none of them work.\",\n",
       " 'I used to be a banker, but then I lost interest.',\n",
       " 'I hate insects puns, they really bug me.',\n",
       " 'Insects puns bug me.',\n",
       " \"It's hard to explain puns to kleptomaniacs because they always take things literally.\",\n",
       " 'I was so sad and crying when I lost my playstation 3 but unfortunately, there was nobody to console me!',\n",
       " \"I'm on a whiskey diet. I've lost three days already.\",\n",
       " \"She broke into song when she couldn't find the key.\",\n",
       " 'She had a boyfriend with a wooden leg, but broke it off.',\n",
       " 'Corduroy pillows are making headlines.',\n",
       " 'If you want to catch a squirrel just climb a tree and act like a nut.',\n",
       " 'A magician was walking down the street and turned into a grocery store.',\n",
       " 'Time flies like an arrow, fruit flies like banana.',\n",
       " 'Dwarfs and midgets have very little in common.',\n",
       " 'My grandfather has the heart of a lion, and a lifetime ban at the zoo.',\n",
       " 'A broken pencil is pointless.',\n",
       " 'My skiing skills are really going downhill.',\n",
       " 'Obesity should not be taken lightly.']"
      ]
     },
     "execution_count": 13,
     "metadata": {},
     "output_type": "execute_result"
    }
   ],
   "source": [
    "joke_text"
   ]
  },
  {
   "cell_type": "code",
   "execution_count": null,
   "metadata": {
    "collapsed": true
   },
   "outputs": [],
   "source": []
  }
 ],
 "metadata": {
  "anaconda-cloud": {},
  "kernelspec": {
   "display_name": "Python [default]",
   "language": "python",
   "name": "python2"
  },
  "language_info": {
   "codemirror_mode": {
    "name": "ipython",
    "version": 2
   },
   "file_extension": ".py",
   "mimetype": "text/x-python",
   "name": "python",
   "nbconvert_exporter": "python",
   "pygments_lexer": "ipython2",
   "version": "2.7.12"
  }
 },
 "nbformat": 4,
 "nbformat_minor": 1
}
