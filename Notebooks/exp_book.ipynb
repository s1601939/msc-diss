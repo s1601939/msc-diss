{
 "cells": [
  {
   "cell_type": "code",
   "execution_count": 1,
   "metadata": {
    "collapsed": false,
    "deletable": true,
    "editable": true
   },
   "outputs": [],
   "source": [
    "import gensim\n",
    "import os\n",
    "import string\n",
    "import itertools\n",
    "from nltk.corpus import brown, movie_reviews, treebank, webtext, gutenberg\n",
    "import sense2vec\n",
    "from operator import itemgetter\n",
    "from joke_model import JokeModel\n",
    "from language_models import Sense2VecModel, Word2VecModel\n",
    "from nltk.corpus import stopwords\n",
    "import numpy as np\n",
    "import pandas as pd\n",
    "import pickle\n",
    "import matplotlib.pyplot as plt"
   ]
  },
  {
   "cell_type": "code",
   "execution_count": 28,
   "metadata": {
    "collapsed": true,
    "deletable": true,
    "editable": true
   },
   "outputs": [],
   "source": [
    "def load_stopwords(fname='stopwords.txt'):\n",
    "    # stopwords =  ['a','to','of', 'so', 'on', 'the', 'into']\n",
    "    # stopwords += ['i', 'me', 'my', 'you', 'us', 'we', 'them', 'she', 'her', 'he', 'him']\n",
    "    # stopwords += ['and', 'or', 'but']\n",
    "    # stopwords += ['had', 'have', \"'ve\"]\n",
    "    # stopwords += ['is', 'are', 'am', \"'m\", 'be']\n",
    "    # stopwords += [\"'s\", \"'d\"]\n",
    "    stopWords = set(stopwords.words('english')) | {'would'}\n",
    "    return stopWords"
   ]
  },
  {
   "cell_type": "code",
   "execution_count": 3,
   "metadata": {
    "collapsed": true,
    "deletable": true,
    "editable": true
   },
   "outputs": [],
   "source": [
    "def load_stoptags(fname='stoppos.txt'):\n",
    "    allpos = ['ADJ', 'ADP', 'ADV', 'AUX', 'CONJ', 'DET', 'INTJ', 'NOUN', 'NUM', \n",
    "            'PART', 'PRON', 'PROPN', 'PUNCT', 'SCONJ', 'SYM', 'VERB', 'X', 'NORP', \n",
    "            'FACILITY', 'ORG', 'GPE', 'LOC', 'PRODUCT', 'EVENT', 'WORK_OF_ART', 'LANGUAGE']\n",
    "    keeppos = ['ADJ', 'ADV', 'INTJ', 'NOUN',  \n",
    "            'PROPN', 'SCONJ', 'SYM', 'VERB', 'X', 'NORP', \n",
    "            'FACILITY', 'ORG', 'GPE', 'LOC', 'PRODUCT', 'EVENT', 'WORK_OF_ART', 'LANGUAGE']\n",
    "    stoppos = list(set(allpos) - set(keeppos))\n",
    "    return stoppos\n"
   ]
  },
  {
   "cell_type": "code",
   "execution_count": 16,
   "metadata": {
    "collapsed": true,
    "deletable": true,
    "editable": true
   },
   "outputs": [],
   "source": [
    "def get_similarities(this_model, joke):\n",
    "    max_sim = -1.0\n",
    "    min_sim = 1.0\n",
    "    max_words = ()\n",
    "    min_words = ()\n",
    "\n",
    "    stop_words = load_stopwords()\n",
    "    stop_tags = load_stoptags()\n",
    "\n",
    "    # remove stopwords\n",
    "    joke_words = [w for w in joke.split() if w.split('|')[0].lower() not in stop_words]\n",
    "    # remove unwanted tags\n",
    "    joke_words = [w for w in joke_words if w.split('|')[1] not in stop_tags]\n",
    "    # remove OOV words\n",
    "    joke_words = [w for w in joke_words if this_model.in_vocab(w)]\n",
    "\n",
    "    sim_grid = pd.DataFrame(index=joke_words, columns=joke_words)\n",
    "    sim_grid = sim_grid.fillna(-1.0)\n",
    "\n",
    "    pairs = list(itertools.combinations(joke_words,2))\n",
    "    for (left_word,right_word) in pairs:\n",
    "#         if not (left_word == right_word):\n",
    "        try:\n",
    "            this_sim = this_model.similarity(left_word, right_word)\n",
    "            sim_grid[left_word][right_word] = max(sim_grid[left_word][right_word], this_sim)\n",
    "            sim_grid[right_word][left_word] = sim_grid[left_word][right_word]\n",
    "            if this_sim < min_sim:\n",
    "                min_sim = this_sim\n",
    "                min_words = (left_word, right_word)\n",
    "            if this_sim > max_sim:\n",
    "                max_sim = this_sim\n",
    "                max_words = (left_word, right_word)\n",
    "        except:\n",
    "            # we could use this to build a stopword list\n",
    "            # or we could use ContVec? to reconstruct a new vector for the OOV word?\n",
    "            print(\"one of these words is not in vocab: {0}, {1}\".format(left_word,right_word))\n",
    "    return [min_sim, min_words, max_sim, max_words, sim_grid, joke, joke_words]\n"
   ]
  },
  {
   "cell_type": "code",
   "execution_count": 5,
   "metadata": {
    "collapsed": true,
    "deletable": true,
    "editable": true
   },
   "outputs": [],
   "source": [
    "def main(model_choice='s2v',joke_choice='jokes.txt'):\n",
    "    print(\"Load the model\")\n",
    "    if model_choice == 'w2v':\n",
    "        print(\">>word2vec - extended corpora\")\n",
    "        model = Word2VecModel(model_choice)\n",
    "    elif model_choice == 's2v':\n",
    "        print(\">>sense2vec - reddit hivemind corpus\")\n",
    "        model = Sense2VecModel(model_choice)\n",
    "    else:\n",
    "        raise NotImplementedError\n",
    "\n",
    "    try:\n",
    "        print(\"Load the jokes\")\n",
    "        jokes = JokeModel(joke_choice,named_entities=False)\n",
    "    except:\n",
    "        raise Exception('Could not load file \"'+joke_choice+'\"')\n",
    "\n",
    "\n",
    "    results = [[j,None,None,[None]] for j in jokes.raw_jokes()]\n",
    "    joke_id = 0\n",
    "    for joke in jokes.tagged_jokes():\n",
    "        print(results[joke_id][0])\n",
    "        mns, mnw, mxs, mxw, grid, pos_joke, pos_joke_words = get_similarities(model, joke)\n",
    "        results[joke_id][1] = pos_joke\n",
    "        results[joke_id][2] = pos_joke_words\n",
    "        results[joke_id][3] = grid\n",
    "        joke_id += 1\n",
    "        \n",
    "    with open(model_choice+'_'+joke_choice+'.pkl','wb') as pkl_file:\n",
    "        pickle.dump(results, pkl_file)\n",
    "\n"
   ]
  },
  {
   "cell_type": "code",
   "execution_count": 17,
   "metadata": {
    "collapsed": false,
    "deletable": true,
    "editable": true
   },
   "outputs": [
    {
     "name": "stdout",
     "output_type": "stream",
     "text": [
      "Load the model\n",
      ">>sense2vec - reddit hivemind corpus\n",
      "counting tokens\n",
      "Load the jokes\n"
     ]
    }
   ],
   "source": [
    "# This is the main function as free code\n",
    "\n",
    "model_choice='s2v'\n",
    "joke_choice='jokes.txt'\n",
    "\n",
    "print(\"Load the model\")\n",
    "if model_choice == 'w2v':\n",
    "    print(\">>word2vec - extended corpora\")\n",
    "    model = Word2VecModel(model_choice,model_size='webtext')\n",
    "elif model_choice == 's2v':\n",
    "    print(\">>sense2vec - reddit hivemind corpus\")\n",
    "    model = Sense2VecModel(model_choice)\n",
    "else:\n",
    "    raise NotImplementedError\n",
    "\n",
    "try:\n",
    "    print(\"Load the jokes\")\n",
    "    jokes = JokeModel(joke_choice,named_entities=False)\n",
    "except:\n",
    "    raise Exception('Could not load file \"'+joke_choice+'\"')"
   ]
  },
  {
   "cell_type": "code",
   "execution_count": 7,
   "metadata": {
    "collapsed": false
   },
   "outputs": [
    {
     "name": "stdout",
     "output_type": "stream",
     "text": [
      "counting tokens\n"
     ]
    }
   ],
   "source": [
    "# smodel = Sense2VecModel(\"s2v\")"
   ]
  },
  {
   "cell_type": "code",
   "execution_count": 8,
   "metadata": {
    "collapsed": false
   },
   "outputs": [
    {
     "name": "stdout",
     "output_type": "stream",
     "text": [
      "S2V model entropy:\n",
      "8.73052279233207e-07\n",
      "-13.9512703983\n",
      "1.21801884195e-05\n",
      "...\n",
      "9.667774493538373e-06\n",
      "-11.5467124204\n",
      "0.000111631011822\n",
      "...\n"
     ]
    },
    {
     "ename": "KeyboardInterrupt",
     "evalue": "",
     "output_type": "error",
     "traceback": [
      "\u001b[0;31m---------------------------------------------------------------------------\u001b[0m",
      "\u001b[0;31mKeyboardInterrupt\u001b[0m                         Traceback (most recent call last)",
      "\u001b[0;32m<ipython-input-8-cef705363903>\u001b[0m in \u001b[0;36m<module>\u001b[0;34m()\u001b[0m\n\u001b[1;32m      2\u001b[0m \u001b[0mprint\u001b[0m\u001b[0;34m(\u001b[0m\u001b[0;34m\"S2V model entropy:\"\u001b[0m\u001b[0;34m)\u001b[0m\u001b[0;34m\u001b[0m\u001b[0m\n\u001b[1;32m      3\u001b[0m \u001b[0;32mfor\u001b[0m \u001b[0mw\u001b[0m \u001b[0;32min\u001b[0m \u001b[0mtest_sent\u001b[0m\u001b[0;34m.\u001b[0m\u001b[0msplit\u001b[0m\u001b[0;34m(\u001b[0m\u001b[0;34m)\u001b[0m\u001b[0;34m:\u001b[0m\u001b[0;34m\u001b[0m\u001b[0m\n\u001b[0;32m----> 4\u001b[0;31m     \u001b[0msprob\u001b[0m \u001b[0;34m=\u001b[0m \u001b[0msmodel\u001b[0m\u001b[0;34m.\u001b[0m\u001b[0mprobability\u001b[0m\u001b[0;34m(\u001b[0m\u001b[0mw\u001b[0m\u001b[0;34m,\u001b[0m\u001b[0;32mTrue\u001b[0m\u001b[0;34m)\u001b[0m\u001b[0;34m\u001b[0m\u001b[0m\n\u001b[0m\u001b[1;32m      5\u001b[0m     \u001b[0mslogprob\u001b[0m \u001b[0;34m=\u001b[0m \u001b[0mnp\u001b[0m\u001b[0;34m.\u001b[0m\u001b[0mlog\u001b[0m\u001b[0;34m(\u001b[0m\u001b[0msprob\u001b[0m\u001b[0;34m)\u001b[0m\u001b[0;34m\u001b[0m\u001b[0m\n\u001b[1;32m      6\u001b[0m     \u001b[0mprint\u001b[0m\u001b[0;34m(\u001b[0m\u001b[0msprob\u001b[0m\u001b[0;34m)\u001b[0m\u001b[0;34m\u001b[0m\u001b[0m\n",
      "\u001b[0;32m/Users/Stephen/Documents/School/UoE/diss/msc-diss/Notebooks/language_models.py\u001b[0m in \u001b[0;36mprobability\u001b[0;34m(self, word, all_pos)\u001b[0m\n\u001b[1;32m     71\u001b[0m         \u001b[0;32mif\u001b[0m \u001b[0mall_pos\u001b[0m\u001b[0;34m:\u001b[0m\u001b[0;34m\u001b[0m\u001b[0m\n\u001b[1;32m     72\u001b[0m         \u001b[0;31m# requires sum of frequencies for all_pos of a word\u001b[0m\u001b[0;34m\u001b[0m\u001b[0;34m\u001b[0m\u001b[0m\n\u001b[0;32m---> 73\u001b[0;31m             \u001b[0mfreq\u001b[0m \u001b[0;34m=\u001b[0m \u001b[0msum\u001b[0m\u001b[0;34m(\u001b[0m\u001b[0;34m[\u001b[0m\u001b[0mf\u001b[0m \u001b[0;32mfor\u001b[0m \u001b[0mw\u001b[0m\u001b[0;34m,\u001b[0m\u001b[0mf\u001b[0m \u001b[0;32min\u001b[0m \u001b[0mself\u001b[0m\u001b[0;34m.\u001b[0m\u001b[0mall_pos_freq\u001b[0m\u001b[0;34m(\u001b[0m\u001b[0mword\u001b[0m\u001b[0;34m)\u001b[0m \u001b[0;32mif\u001b[0m \u001b[0mf\u001b[0m\u001b[0;34m]\u001b[0m\u001b[0;34m)\u001b[0m\u001b[0;34m\u001b[0m\u001b[0m\n\u001b[0m\u001b[1;32m     74\u001b[0m         \u001b[0;32melse\u001b[0m\u001b[0;34m:\u001b[0m\u001b[0;34m\u001b[0m\u001b[0m\n\u001b[1;32m     75\u001b[0m         \u001b[0;31m# requires frequency of word\u001b[0m\u001b[0;34m\u001b[0m\u001b[0;34m\u001b[0m\u001b[0m\n",
      "\u001b[0;32m/Users/Stephen/Documents/School/UoE/diss/msc-diss/Notebooks/language_models.py\u001b[0m in \u001b[0;36mall_pos_freq\u001b[0;34m(self, word)\u001b[0m\n\u001b[1;32m     62\u001b[0m \u001b[0;34m\u001b[0m\u001b[0m\n\u001b[1;32m     63\u001b[0m     \u001b[0;32mdef\u001b[0m \u001b[0mall_pos_freq\u001b[0m\u001b[0;34m(\u001b[0m\u001b[0mself\u001b[0m\u001b[0;34m,\u001b[0m \u001b[0mword\u001b[0m\u001b[0;34m)\u001b[0m\u001b[0;34m:\u001b[0m\u001b[0;34m\u001b[0m\u001b[0m\n\u001b[0;32m---> 64\u001b[0;31m         \u001b[0;32mreturn\u001b[0m \u001b[0;34m[\u001b[0m\u001b[0;34m(\u001b[0m\u001b[0mp\u001b[0m\u001b[0;34m,\u001b[0m\u001b[0msum\u001b[0m\u001b[0;34m(\u001b[0m\u001b[0;34m[\u001b[0m\u001b[0mf\u001b[0m \u001b[0;32mfor\u001b[0m \u001b[0mw\u001b[0m\u001b[0;34m,\u001b[0m\u001b[0mf\u001b[0m \u001b[0;32min\u001b[0m \u001b[0mself\u001b[0m\u001b[0;34m.\u001b[0m\u001b[0mall_word_pos\u001b[0m\u001b[0;34m(\u001b[0m\u001b[0mword\u001b[0m\u001b[0;34m)\u001b[0m \u001b[0;32mif\u001b[0m \u001b[0mw\u001b[0m\u001b[0;34m.\u001b[0m\u001b[0msplit\u001b[0m\u001b[0;34m(\u001b[0m\u001b[0;34m'|'\u001b[0m\u001b[0;34m)\u001b[0m\u001b[0;34m[\u001b[0m\u001b[0;36m0\u001b[0m\u001b[0;34m]\u001b[0m\u001b[0;34m.\u001b[0m\u001b[0mlower\u001b[0m\u001b[0;34m(\u001b[0m\u001b[0;34m)\u001b[0m\u001b[0;34m+\u001b[0m\u001b[0;34m'|'\u001b[0m\u001b[0;34m+\u001b[0m\u001b[0mw\u001b[0m\u001b[0;34m.\u001b[0m\u001b[0msplit\u001b[0m\u001b[0;34m(\u001b[0m\u001b[0;34m'|'\u001b[0m\u001b[0;34m)\u001b[0m\u001b[0;34m[\u001b[0m\u001b[0;36m1\u001b[0m\u001b[0;34m]\u001b[0m \u001b[0;34m==\u001b[0m \u001b[0mp\u001b[0m\u001b[0;34m]\u001b[0m\u001b[0;34m)\u001b[0m\u001b[0;34m)\u001b[0m \u001b[0;32mfor\u001b[0m \u001b[0mp\u001b[0m \u001b[0;32min\u001b[0m \u001b[0mself\u001b[0m\u001b[0;34m.\u001b[0m\u001b[0mpos_list\u001b[0m\u001b[0;34m(\u001b[0m\u001b[0mword\u001b[0m\u001b[0;34m)\u001b[0m\u001b[0;34m]\u001b[0m\u001b[0;34m\u001b[0m\u001b[0m\n\u001b[0m\u001b[1;32m     65\u001b[0m \u001b[0;34m\u001b[0m\u001b[0m\n\u001b[1;32m     66\u001b[0m     \u001b[0;32mdef\u001b[0m \u001b[0min_vocab\u001b[0m\u001b[0;34m(\u001b[0m\u001b[0mself\u001b[0m\u001b[0;34m,\u001b[0m \u001b[0mword\u001b[0m\u001b[0;34m)\u001b[0m\u001b[0;34m:\u001b[0m\u001b[0;34m\u001b[0m\u001b[0m\n",
      "\u001b[0;32m/Users/Stephen/Documents/School/UoE/diss/msc-diss/Notebooks/language_models.py\u001b[0m in \u001b[0;36m<listcomp>\u001b[0;34m(.0)\u001b[0m\n\u001b[1;32m     62\u001b[0m \u001b[0;34m\u001b[0m\u001b[0m\n\u001b[1;32m     63\u001b[0m     \u001b[0;32mdef\u001b[0m \u001b[0mall_pos_freq\u001b[0m\u001b[0;34m(\u001b[0m\u001b[0mself\u001b[0m\u001b[0;34m,\u001b[0m \u001b[0mword\u001b[0m\u001b[0;34m)\u001b[0m\u001b[0;34m:\u001b[0m\u001b[0;34m\u001b[0m\u001b[0m\n\u001b[0;32m---> 64\u001b[0;31m         \u001b[0;32mreturn\u001b[0m \u001b[0;34m[\u001b[0m\u001b[0;34m(\u001b[0m\u001b[0mp\u001b[0m\u001b[0;34m,\u001b[0m\u001b[0msum\u001b[0m\u001b[0;34m(\u001b[0m\u001b[0;34m[\u001b[0m\u001b[0mf\u001b[0m \u001b[0;32mfor\u001b[0m \u001b[0mw\u001b[0m\u001b[0;34m,\u001b[0m\u001b[0mf\u001b[0m \u001b[0;32min\u001b[0m \u001b[0mself\u001b[0m\u001b[0;34m.\u001b[0m\u001b[0mall_word_pos\u001b[0m\u001b[0;34m(\u001b[0m\u001b[0mword\u001b[0m\u001b[0;34m)\u001b[0m \u001b[0;32mif\u001b[0m \u001b[0mw\u001b[0m\u001b[0;34m.\u001b[0m\u001b[0msplit\u001b[0m\u001b[0;34m(\u001b[0m\u001b[0;34m'|'\u001b[0m\u001b[0;34m)\u001b[0m\u001b[0;34m[\u001b[0m\u001b[0;36m0\u001b[0m\u001b[0;34m]\u001b[0m\u001b[0;34m.\u001b[0m\u001b[0mlower\u001b[0m\u001b[0;34m(\u001b[0m\u001b[0;34m)\u001b[0m\u001b[0;34m+\u001b[0m\u001b[0;34m'|'\u001b[0m\u001b[0;34m+\u001b[0m\u001b[0mw\u001b[0m\u001b[0;34m.\u001b[0m\u001b[0msplit\u001b[0m\u001b[0;34m(\u001b[0m\u001b[0;34m'|'\u001b[0m\u001b[0;34m)\u001b[0m\u001b[0;34m[\u001b[0m\u001b[0;36m1\u001b[0m\u001b[0;34m]\u001b[0m \u001b[0;34m==\u001b[0m \u001b[0mp\u001b[0m\u001b[0;34m]\u001b[0m\u001b[0;34m)\u001b[0m\u001b[0;34m)\u001b[0m \u001b[0;32mfor\u001b[0m \u001b[0mp\u001b[0m \u001b[0;32min\u001b[0m \u001b[0mself\u001b[0m\u001b[0;34m.\u001b[0m\u001b[0mpos_list\u001b[0m\u001b[0;34m(\u001b[0m\u001b[0mword\u001b[0m\u001b[0;34m)\u001b[0m\u001b[0;34m]\u001b[0m\u001b[0;34m\u001b[0m\u001b[0m\n\u001b[0m\u001b[1;32m     65\u001b[0m \u001b[0;34m\u001b[0m\u001b[0m\n\u001b[1;32m     66\u001b[0m     \u001b[0;32mdef\u001b[0m \u001b[0min_vocab\u001b[0m\u001b[0;34m(\u001b[0m\u001b[0mself\u001b[0m\u001b[0;34m,\u001b[0m \u001b[0mword\u001b[0m\u001b[0;34m)\u001b[0m\u001b[0;34m:\u001b[0m\u001b[0;34m\u001b[0m\u001b[0m\n",
      "\u001b[0;32m/Users/Stephen/Documents/School/UoE/diss/msc-diss/Notebooks/language_models.py\u001b[0m in \u001b[0;36mall_word_pos\u001b[0;34m(self, word)\u001b[0m\n\u001b[1;32m     59\u001b[0m         \u001b[0;31m# get all the known tags for untagged word\u001b[0m\u001b[0;34m\u001b[0m\u001b[0;34m\u001b[0m\u001b[0m\n\u001b[1;32m     60\u001b[0m         \u001b[0muntagged_word\u001b[0m \u001b[0;34m=\u001b[0m \u001b[0mword\u001b[0m\u001b[0;34m.\u001b[0m\u001b[0msplit\u001b[0m\u001b[0;34m(\u001b[0m\u001b[0;34m'|'\u001b[0m\u001b[0;34m)\u001b[0m\u001b[0;34m[\u001b[0m\u001b[0;36m0\u001b[0m\u001b[0;34m]\u001b[0m\u001b[0;34m.\u001b[0m\u001b[0mlower\u001b[0m\u001b[0;34m(\u001b[0m\u001b[0;34m)\u001b[0m\u001b[0;34m\u001b[0m\u001b[0m\n\u001b[0;32m---> 61\u001b[0;31m         \u001b[0;32mreturn\u001b[0m \u001b[0;34m[\u001b[0m\u001b[0;34m(\u001b[0m\u001b[0mkey\u001b[0m\u001b[0;34m,\u001b[0m\u001b[0mvalue\u001b[0m\u001b[0;34m[\u001b[0m\u001b[0;36m0\u001b[0m\u001b[0;34m]\u001b[0m\u001b[0;34m)\u001b[0m \u001b[0;32mfor\u001b[0m \u001b[0mkey\u001b[0m\u001b[0;34m,\u001b[0m \u001b[0mvalue\u001b[0m \u001b[0;32min\u001b[0m \u001b[0mself\u001b[0m\u001b[0;34m.\u001b[0m\u001b[0mmodel\u001b[0m\u001b[0;34m.\u001b[0m\u001b[0mitems\u001b[0m\u001b[0;34m(\u001b[0m\u001b[0;34m)\u001b[0m \u001b[0;32mif\u001b[0m \u001b[0mkey\u001b[0m\u001b[0;34m.\u001b[0m\u001b[0mlower\u001b[0m\u001b[0;34m(\u001b[0m\u001b[0;34m)\u001b[0m\u001b[0;34m.\u001b[0m\u001b[0mstartswith\u001b[0m\u001b[0;34m(\u001b[0m\u001b[0muntagged_word\u001b[0m\u001b[0;34m+\u001b[0m\u001b[0;34m'|'\u001b[0m\u001b[0;34m)\u001b[0m\u001b[0;34m]\u001b[0m\u001b[0;34m\u001b[0m\u001b[0m\n\u001b[0m\u001b[1;32m     62\u001b[0m \u001b[0;34m\u001b[0m\u001b[0m\n\u001b[1;32m     63\u001b[0m     \u001b[0;32mdef\u001b[0m \u001b[0mall_pos_freq\u001b[0m\u001b[0;34m(\u001b[0m\u001b[0mself\u001b[0m\u001b[0;34m,\u001b[0m \u001b[0mword\u001b[0m\u001b[0;34m)\u001b[0m\u001b[0;34m:\u001b[0m\u001b[0;34m\u001b[0m\u001b[0m\n",
      "\u001b[0;32m/Users/Stephen/Documents/School/UoE/diss/msc-diss/Notebooks/language_models.py\u001b[0m in \u001b[0;36m<listcomp>\u001b[0;34m(.0)\u001b[0m\n\u001b[1;32m     59\u001b[0m         \u001b[0;31m# get all the known tags for untagged word\u001b[0m\u001b[0;34m\u001b[0m\u001b[0;34m\u001b[0m\u001b[0m\n\u001b[1;32m     60\u001b[0m         \u001b[0muntagged_word\u001b[0m \u001b[0;34m=\u001b[0m \u001b[0mword\u001b[0m\u001b[0;34m.\u001b[0m\u001b[0msplit\u001b[0m\u001b[0;34m(\u001b[0m\u001b[0;34m'|'\u001b[0m\u001b[0;34m)\u001b[0m\u001b[0;34m[\u001b[0m\u001b[0;36m0\u001b[0m\u001b[0;34m]\u001b[0m\u001b[0;34m.\u001b[0m\u001b[0mlower\u001b[0m\u001b[0;34m(\u001b[0m\u001b[0;34m)\u001b[0m\u001b[0;34m\u001b[0m\u001b[0m\n\u001b[0;32m---> 61\u001b[0;31m         \u001b[0;32mreturn\u001b[0m \u001b[0;34m[\u001b[0m\u001b[0;34m(\u001b[0m\u001b[0mkey\u001b[0m\u001b[0;34m,\u001b[0m\u001b[0mvalue\u001b[0m\u001b[0;34m[\u001b[0m\u001b[0;36m0\u001b[0m\u001b[0;34m]\u001b[0m\u001b[0;34m)\u001b[0m \u001b[0;32mfor\u001b[0m \u001b[0mkey\u001b[0m\u001b[0;34m,\u001b[0m \u001b[0mvalue\u001b[0m \u001b[0;32min\u001b[0m \u001b[0mself\u001b[0m\u001b[0;34m.\u001b[0m\u001b[0mmodel\u001b[0m\u001b[0;34m.\u001b[0m\u001b[0mitems\u001b[0m\u001b[0;34m(\u001b[0m\u001b[0;34m)\u001b[0m \u001b[0;32mif\u001b[0m \u001b[0mkey\u001b[0m\u001b[0;34m.\u001b[0m\u001b[0mlower\u001b[0m\u001b[0;34m(\u001b[0m\u001b[0;34m)\u001b[0m\u001b[0;34m.\u001b[0m\u001b[0mstartswith\u001b[0m\u001b[0;34m(\u001b[0m\u001b[0muntagged_word\u001b[0m\u001b[0;34m+\u001b[0m\u001b[0;34m'|'\u001b[0m\u001b[0;34m)\u001b[0m\u001b[0;34m]\u001b[0m\u001b[0;34m\u001b[0m\u001b[0m\n\u001b[0m\u001b[1;32m     62\u001b[0m \u001b[0;34m\u001b[0m\u001b[0m\n\u001b[1;32m     63\u001b[0m     \u001b[0;32mdef\u001b[0m \u001b[0mall_pos_freq\u001b[0m\u001b[0;34m(\u001b[0m\u001b[0mself\u001b[0m\u001b[0;34m,\u001b[0m \u001b[0mword\u001b[0m\u001b[0;34m)\u001b[0m\u001b[0;34m:\u001b[0m\u001b[0;34m\u001b[0m\u001b[0m\n",
      "\u001b[0;32m/Users/Stephen/anaconda/envs/mlp/lib/python3.5/site-packages/sense2vec/vectors.pyx\u001b[0m in \u001b[0;36mitems (sense2vec/vectors.cpp:4380)\u001b[0;34m()\u001b[0m\n",
      "\u001b[0;32m/Users/Stephen/anaconda/envs/mlp/lib/python3.5/site-packages/sense2vec/vectors.pyx\u001b[0m in \u001b[0;36msense2vec.vectors.VectorStore.__getitem__ (sense2vec/vectors.cpp:7074)\u001b[0;34m()\u001b[0m\n",
      "\u001b[0;32m/Users/Stephen/anaconda/envs/mlp/lib/python3.5/site-packages/numpy/core/numeric.py\u001b[0m in \u001b[0;36masarray\u001b[0;34m(a, dtype, order)\u001b[0m\n\u001b[1;32m    461\u001b[0m \u001b[0;34m\u001b[0m\u001b[0m\n\u001b[1;32m    462\u001b[0m \u001b[0;34m\u001b[0m\u001b[0m\n\u001b[0;32m--> 463\u001b[0;31m \u001b[0;32mdef\u001b[0m \u001b[0masarray\u001b[0m\u001b[0;34m(\u001b[0m\u001b[0ma\u001b[0m\u001b[0;34m,\u001b[0m \u001b[0mdtype\u001b[0m\u001b[0;34m=\u001b[0m\u001b[0;32mNone\u001b[0m\u001b[0;34m,\u001b[0m \u001b[0morder\u001b[0m\u001b[0;34m=\u001b[0m\u001b[0;32mNone\u001b[0m\u001b[0;34m)\u001b[0m\u001b[0;34m:\u001b[0m\u001b[0;34m\u001b[0m\u001b[0m\n\u001b[0m\u001b[1;32m    464\u001b[0m     \"\"\"Convert the input to an array.\n\u001b[1;32m    465\u001b[0m \u001b[0;34m\u001b[0m\u001b[0m\n",
      "\u001b[0;31mKeyboardInterrupt\u001b[0m: "
     ]
    }
   ],
   "source": [
    "# test_sent = \"insect|ADJ puns|NOUN bug|VERB\"\n",
    "# print(\"S2V model entropy:\")\n",
    "# for w in test_sent.split():\n",
    "#     sprob = smodel.probability(w,True)\n",
    "#     slogprob = np.log(sprob)\n",
    "#     print(sprob)\n",
    "#     print(slogprob)\n",
    "#     print(-sprob*slogprob)\n",
    "#     print(\"...\")\n",
    "# print(smodel.entropy(\"insect|ADJ puns|NOUN bug|VERB\"))"
   ]
  },
  {
   "cell_type": "code",
   "execution_count": null,
   "metadata": {
    "collapsed": false
   },
   "outputs": [],
   "source": [
    "# print(\"W2V model entropy\")\n",
    "# went = 0\n",
    "# for w in test_sent.split():\n",
    "#     llhd = model.model_h.score([w.split('|')[0]],1)\n",
    "#     lhd = np.exp(llhd)\n",
    "#     went += -(lhd * llhd)\n",
    "#     print(lhd)\n",
    "#     print(llhd)\n",
    "#     print(went)\n",
    "#     print(\"...\")\n",
    "# print(' '.join([w.split('|')[0] for w in test_sent.split()]))\n",
    "# print(model.model_h.score([' '.join([w.split('|')[0] for w in test_sent.split()])]))\n",
    "# print(np.log(went))\n",
    "# print(-sum([np.exp(model.score(w))*model.score(w) for w in test_sent.split()]))\n",
    "# print(-sum([np.exp(model.model_h.score([w.split('|')[0]]))*model.model_h.score([w.split('|')[0]]) for w in test_sent.split()]))"
   ]
  },
  {
   "cell_type": "code",
   "execution_count": 18,
   "metadata": {
    "collapsed": false
   },
   "outputs": [
    {
     "data": {
      "text/plain": [
       "['insect|ADJ', 'insect|VERB', 'insect|NOUN']"
      ]
     },
     "execution_count": 18,
     "metadata": {},
     "output_type": "execute_result"
    }
   ],
   "source": [
    "# pos_list = list(set([w.split('|')[0].lower()+'|'+w.split('|')[1] for w,f in ap]))\n",
    "model.pos_list(\"insect|ADJ\")"
   ]
  },
  {
   "cell_type": "code",
   "execution_count": 19,
   "metadata": {
    "collapsed": false
   },
   "outputs": [
    {
     "name": "stdout",
     "output_type": "stream",
     "text": [
      "[('insect|ADJ', 272), ('insect|VERB', 76), ('insect|NOUN', 5486)]\n"
     ]
    }
   ],
   "source": [
    "# pos_freq = [(p,sum([f for w,f in ap if w.split('|')[0].lower()+'|'+w.split('|')[1] == p])) for p in pos_list]\n",
    "print(model.all_pos_freq(\"insect|ADJ\"))"
   ]
  },
  {
   "cell_type": "code",
   "execution_count": 20,
   "metadata": {
    "collapsed": false,
    "deletable": true,
    "editable": true
   },
   "outputs": [
    {
     "name": "stdout",
     "output_type": "stream",
     "text": [
      "0.000140416336128\n",
      "0.000347963906268\n",
      "0.000150311604792\n",
      "0.000357859174932\n"
     ]
    }
   ],
   "source": [
    "print(model.entropy(\"insect|ADJ puns|NOUN bug|VERB\")) #0\n",
    "print(model.entropy(\"insect|ADJ puns|NOUN bug|NOUN\")) #1\n",
    "print(model.entropy(\"insect|NOUN puns|NOUN bug|VERB\")) #1\n",
    "print(model.entropy(\"insect|NOUN puns|NOUN bug|NOUN\")) #2\n"
   ]
  },
  {
   "cell_type": "code",
   "execution_count": 36,
   "metadata": {
    "collapsed": true
   },
   "outputs": [],
   "source": [
    "test_sent = \"insect|ADJ puns|NOUN bug|VERB\"\n",
    "all_tagged_sentence = [model.pos_list(w) for w in test_sent.split()]"
   ]
  },
  {
   "cell_type": "code",
   "execution_count": 37,
   "metadata": {
    "collapsed": false
   },
   "outputs": [
    {
     "name": "stdout",
     "output_type": "stream",
     "text": [
      "[['insect|ADJ', 'insect|VERB', 'insect|NOUN'], ['puns|NOUN'], ['bug|NOUN', 'bug|ADP', 'bug|VERB', 'bug|GPE', 'bug|ADJ', 'bug|ORG', 'bug|PERSON']]\n"
     ]
    }
   ],
   "source": [
    "print(all_tagged_sentence)"
   ]
  },
  {
   "cell_type": "code",
   "execution_count": null,
   "metadata": {
    "collapsed": true
   },
   "outputs": [],
   "source": [
    "# now I just need to permute this list of lists.\n"
   ]
  },
  {
   "cell_type": "code",
   "execution_count": 30,
   "metadata": {
    "collapsed": true,
    "deletable": true,
    "editable": true
   },
   "outputs": [
    {
     "name": "stdout",
     "output_type": "stream",
     "text": [
      "i wasn't originally going to get a brain transplant, but then i changed my mind.\n",
      "entropy: [0.00031166274098614108, 0.0084508923974274171, 0.025236242839423044, 0.025743917959190142, 0.025757652319476541, 0.026747382089289298, 0.028440396004565528]\n",
      "i was going to get a brain transplant and then i changed my mind.\n",
      "entropy: [0.0081392296564412759, 0.024924580098436899, 0.025432255218203997, 0.025445989578490397, 0.026435719348303154, 0.028128733263579384]\n",
      "i'd tell you a chemistry joke but i know i wouldn't get a reaction.\n",
      "entropy: [0.0030368033793812706, 0.0031144997628393379, 0.0039350539615805999, 0.015721906627583025, 0.032507257069578646, 0.032768676782799613]\n",
      "i'm glad i know sign language, it's pretty handy.\n",
      "entropy: [0.00092923127186628142, 0.012716083937868708, 0.012992015275015523, 0.013363062712515753, 0.018473951575714471, 0.018599006850386089]\n",
      "i have a few jokes about unemployed people but it doesn't matter none of them work.\n",
      "entropy: [0.00027539668409279529, 0.00033173960934139597, 0.011641208648096117, 0.012505265290472592, 0.013126931663932407, 0.017048599372048587]\n",
      "i used to be a banker, but then i lost interest.\n",
      "entropy: [0.0042147244490089702, 0.0042247166855101321, 0.0056169384332213478, 0.006146435585680979]\n",
      "i hate insect puns, they really bug me.\n",
      "entropy: [0.0017443582051824252, 0.0017446303820605217, 0.0018533818405997045, 0.013196062859061474, 0.013227455559772568]\n",
      "insect puns bug me.\n",
      "entropy: [1.0167445542010322e-05, 0.00011891890408119313, 0.00015031160479228562]\n",
      "it's hard to explain puns to kleptomaniacs because they always take things literally.\n",
      "entropy: [0.0021605846019871707, 0.0031833688035467888, 0.0032921202620859718, 0.0032924329813447902, 0.0083196226850378308, 0.014149843550819828, 0.018436038281942659, 0.01977619317143528]\n",
      "i was so sad and crying when i lost my playstation 3 but unfortunately, there was nobody to console me!\n",
      "entropy: [0.00079647655989016522, 0.0010690965464337239, 0.0024613182941449398, 0.0024770138213504995, 0.0029099208724168457, 0.0036101550431911133, 0.0036303194046783055]\n",
      "i'm on a whiskey diet. i've lost three days already.\n",
      "entropy: [4.8822919149332005e-05, 0.00025664506337522055, 0.0016488668110864369, 0.0016670168639802126, 0.0017190152097933866, 0.0052538514493214884]\n",
      "she broke into song when she couldn't find the key.\n",
      "entropy: [0.00047358584429781824, 0.00116782479395889, 0.011161010543376683, 0.016085005014788056, 0.016371385421216123]\n",
      "she had a boyfriend with a wooden leg, but broke it off.\n",
      "entropy: [0.00036637555204673314, 0.00037815981886656113, 0.00058338944836095082, 0.0010569752926587691]\n",
      "corduroy pillows are making headlines.\n",
      "entropy: [5.6722991049756105e-07, 2.1913232801774276e-05, 0.0029592505287784794, 0.0029905503935266763]\n",
      "if you want to catch a squirrel just climb a tree and act like a nut.\n",
      "entropy: [0.0092895593645719796, 0.0097972796444959955, 0.0098195476960506994, 0.0099608781583448661, 0.010174488342305244, 0.010732713943163214, 0.010775366516792395]\n",
      "a magician was walking down the street and turned into a grocery store.\n",
      "entropy: [1.3184654298335628e-05, 0.00052233917154983502, 0.00086714165547208794, 0.001766790609634512, 0.0017831414300764595, 0.0023099833754977998]\n",
      "time flies like an arrow, fruit flies like banana.\n",
      "entropy: [0.0088932106940986955, 0.0089465986836709845, 0.0090233676407476798, 0.009142085938545404, 0.0091733179458112751, 0.0092494226001248164]\n",
      "dwarfs and midgets have very little in common.\n",
      "entropy: [4.5610157249665102e-06, 1.0781986667970432e-05, 0.002286789063638653, 0.0028835390752252202]\n",
      "my grandfather has the heart of a lion, and a lifetime ban at the zoo.\n",
      "entropy: [8.5773116975689721e-05, 0.00064581999689300158, 0.00069288715851260224, 0.00080283753534987894, 0.00093120568875938942, 0.00097542603390582655]\n",
      "a broken pencil is pointless.\n",
      "entropy: [0.00011584322972827469, 0.00016271607447224703, 0.00034773797604173385]\n",
      "my skiing skills are really going downhill.\n",
      "entropy: [2.3294948311841232e-05, 0.00034855629271974534, 0.011691237311181516, 0.019830466967622792, 0.019884372842990952]\n",
      "obesity should not be taken lightly.\n",
      "entropy: [5.2663839563768408e-05, 0.0011818537763740456, 0.0012682330907685614]\n",
      "being fat should not be taken lightly.\n",
      "entropy: [0.00023472474068951825, 0.0013639146774997953, 0.0014502939918943111]\n"
     ]
    }
   ],
   "source": [
    "results = [[j,None,None,[None],None] for j in jokes.raw_jokes()]\n",
    "for joke_id, joke in enumerate(jokes.tagged_jokes()):\n",
    "    print(results[joke_id][0])\n",
    "    mns, mnw, mxs, mxw, grid, pos_joke, pos_joke_words = get_similarities(model, joke)\n",
    "    results[joke_id][1] = pos_joke\n",
    "    results[joke_id][2] = pos_joke_words\n",
    "    results[joke_id][3] = grid\n",
    "    if model_choice == 's2v' or model_choice == 'w2v':\n",
    "        # results[joke_id][4] = model.entropy(' '.join(pos_joke_words))\n",
    "        entropy = 0.0\n",
    "        string = ''\n",
    "        cumulative_entropy = []\n",
    "        for w in pos_joke_words:\n",
    "            string = string + ' ' + w\n",
    "            cumulative_entropy += [model.entropy(string)]\n",
    "        results[joke_id][4] = cumulative_entropy\n",
    "        print('entropy: {}'.format(cumulative_entropy))"
   ]
  },
  {
   "cell_type": "code",
   "execution_count": 31,
   "metadata": {
    "collapsed": false,
    "deletable": true,
    "editable": true
   },
   "outputs": [],
   "source": [
    "def plot_entropy(this_joke):\n",
    "    # twin scales code suggested by https://matplotlib.org/devdocs/gallery/api/two_scales.html\n",
    "    fig, ax1 = plt.subplots()\n",
    "    ax2 = ax1.twinx()\n",
    "\n",
    "    cum_val = 0\n",
    "    individual_entropies = []\n",
    "    for each_sum in this_joke[4]:\n",
    "        this_val = each_sum - cum_val\n",
    "        individual_entropies += [this_val]\n",
    "        cum_val = each_sum\n",
    "\n",
    "    ax1.plot(this_joke[4])\n",
    "    ax1.plot(individual_entropies)\n",
    "    ax1.set_ylabel('Entropy (nat)')\n",
    "    \n",
    "    maxes = this_joke[3].replace(-1,np.nan).max(axis=1).tolist()\n",
    "    mins = this_joke[3].replace(-1,np.nan).min(axis=1).tolist()\n",
    "\n",
    "    ax2.plot(maxes,'g^',linestyle='None')\n",
    "    ax2.plot(mins,'gv',linestyle='None')\n",
    "#    ax2.plot(this_joke[3].replace(-1,np.nan))\n",
    "\n",
    "#     plt.xticks(range(len(this_joke[2])),this_joke[2],rotation=23)\n",
    "    ax1.set_xticks(ticks=range(len(this_joke[2])))\n",
    "    ax1.set_xticklabels(this_joke[2],rotation=23)\n",
    "    plt.show()\n",
    "\n",
    "def plot_entropy_works(this_joke):\n",
    "    \n",
    "    fig, ax = plt.subplots()\n",
    "    ax1, ax2 = two_scales(ax, t, s1, s2, 'r', 'b')\n",
    "\n",
    "    cum_val = 0\n",
    "    individual_entropies = []\n",
    "    for each_sum in this_joke[4]:\n",
    "        this_val = each_sum - cum_val\n",
    "        individual_entropies += [this_val]\n",
    "        cum_val = each_sum\n",
    "\n",
    "    plt.plot(this_joke[4])\n",
    "    plt.plot(individual_entropies)\n",
    "    plt.ylabel('some numbers')\n",
    "    plt.xticks(range(len(this_joke[2])),this_joke[2],rotation=23)\n",
    "    plt.show()"
   ]
  },
  {
   "cell_type": "code",
   "execution_count": 32,
   "metadata": {
    "collapsed": false,
    "deletable": true,
    "editable": true
   },
   "outputs": [
    {
     "name": "stdout",
     "output_type": "stream",
     "text": [
      "<class 'pandas.core.frame.DataFrame'>\n",
      "whiskey|NOUN    0.358023\n",
      "diet|NOUN       0.358023\n",
      "lost|VERB       0.578484\n",
      "three|DATE      0.499580\n",
      "days|DATE       0.523899\n",
      "already|ADV     0.578484\n",
      "dtype: float64\n",
      "whiskey|NOUN    0.143448\n",
      "diet|NOUN       0.193936\n",
      "lost|VERB       0.143448\n",
      "three|DATE      0.193936\n",
      "days|DATE       0.279796\n",
      "already|ADV     0.176032\n",
      "dtype: float64\n",
      "['whiskey|NOUN' 'diet|NOUN' 'lost|VERB' 'three|DATE' 'days|DATE'\n",
      " 'already|ADV']\n",
      "              whiskey|NOUN  diet|NOUN  lost|VERB  three|DATE  days|DATE  \\\n",
      "whiskey|NOUN     -1.000000   0.358023   0.143448    0.223093   0.279796   \n",
      "diet|NOUN         0.358023  -1.000000   0.271953    0.193936   0.292480   \n",
      "lost|VERB         0.143448   0.271953  -1.000000    0.350585   0.434739   \n",
      "three|DATE        0.223093   0.193936   0.350585   -1.000000   0.499580   \n",
      "days|DATE         0.279796   0.292480   0.434739    0.499580  -1.000000   \n",
      "already|ADV       0.176032   0.255374   0.578484    0.418997   0.523899   \n",
      "\n",
      "              already|ADV  \n",
      "whiskey|NOUN     0.176032  \n",
      "diet|NOUN        0.255374  \n",
      "lost|VERB        0.578484  \n",
      "three|DATE       0.418997  \n",
      "days|DATE        0.523899  \n",
      "already|ADV     -1.000000  \n"
     ]
    }
   ],
   "source": [
    "print(type(results[10][3]))\n",
    "maxes = results[10][3].replace(-1,np.nan).max(axis=1)\n",
    "mins = results[10][3].replace(-1,np.nan).min(axis=1)\n",
    "\n",
    "print(maxes)\n",
    "print(mins)\n",
    "print(maxes.index.values)\n",
    "print(results[10][3])"
   ]
  },
  {
   "cell_type": "code",
   "execution_count": 33,
   "metadata": {
    "collapsed": false,
    "deletable": true,
    "editable": true
   },
   "outputs": [
    {
     "data": {
      "image/png": "[encoded data removed]",
      "text/plain": [
       "<matplotlib.figure.Figure at 0x11069a9b0>"
      ]
     },
     "metadata": {},
     "output_type": "display_data"
    }
   ],
   "source": [
    "plot_entropy(results[10])\n",
    "# use for discovering and explaining"
   ]
  },
  {
   "cell_type": "code",
   "execution_count": null,
   "metadata": {
    "collapsed": false,
    "deletable": true,
    "editable": true,
    "scrolled": false
   },
   "outputs": [],
   "source": [
    "for r in results:\n",
    "    plot_entropy(r)"
   ]
  },
  {
   "cell_type": "code",
   "execution_count": null,
   "metadata": {
    "collapsed": true,
    "deletable": true,
    "editable": true
   },
   "outputs": [],
   "source": []
  }
 ],
 "metadata": {
  "kernelspec": {
   "display_name": "Python 3",
   "language": "python",
   "name": "python3"
  },
  "language_info": {
   "codemirror_mode": {
    "name": "ipython",
    "version": 3
   },
   "file_extension": ".py",
   "mimetype": "text/x-python",
   "name": "python",
   "nbconvert_exporter": "python",
   "pygments_lexer": "ipython3",
   "version": "3.5.3"
  }
 },
 "nbformat": 4,
 "nbformat_minor": 1
}
